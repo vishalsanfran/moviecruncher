{
 "cells": [
  {
   "cell_type": "code",
   "execution_count": 1,
   "id": "fc261fe0-4705-4b62-a1e9-c9429938d855",
   "metadata": {},
   "outputs": [],
   "source": [
    "# 📦 Imports\n",
    "import pandas as pd\n",
    "import numpy as np\n",
    "import lightgbm as lgb\n",
    "from sklearn.model_selection import train_test_split\n",
    "from sklearn.metrics import mean_squared_error\n",
    "import matplotlib.pyplot as plt\n",
    "from sklearn.decomposition import TruncatedSVD\n",
    "from sentence_transformers import SentenceTransformer\n",
    "import numpy as np\n",
    "\n",
    "sentence_transformer = SentenceTransformer(\"all-MiniLM-L6-v2\")\n",
    "# https://www.kaggle.com/datasets/alanvourch/tmdb-movies-daily-updates\n",
    "# versions=570, Tmdb id, 665mb, 921k, imdb id, overview, tagline, cast, director, writer, producer, music_composer\n",
    "df_full = pd.read_csv(\"TMDB_all_movies.csv\")\n",
    "# https://www.kaggle.com/datasets/akshaypawar7/millions-of-movies\n",
    "# versions=911, 20 columns, tmdb id, 350mb - 575k, genre, overview, tagline, keywords, recommended other TMDB ids\n",
    "# df = pd.read_csv(\"TMDB_movie_dataset_v11.csv\")\n",
    "# https://www.kaggle.com/datasets/asaniczka/tmdb-movies-dataset-2023-930k-movies/data\n",
    "# versions=649, 24 columns, Tmdb id, 570mb, 1079k, genre, overview, tagline, keyword\n",
    "# df = pd.read_csv(\"movies.csv\")\n",
    "# https://www.kaggle.com/datasets/anandshaw2001/imdb-data\n",
    "# df = pd.read_csv(\"Imdb_Movie_Dataset.csv\")"
   ]
  },
  {
   "cell_type": "code",
   "execution_count": 2,
   "id": "1e7a8829-3ccc-414b-90f3-2d42765cc658",
   "metadata": {},
   "outputs": [
    {
     "name": "stdout",
     "output_type": "stream",
     "text": [
      "Loaded: 1,087,572 rows, 28 columns\n",
      "after removing invalid revenue (16332, 28)\n",
      "count    1.633200e+04\n",
      "mean     4.545404e+07\n",
      "std      1.323998e+08\n",
      "min      1.000000e+00\n",
      "25%      2.000000e+04\n",
      "50%      3.483398e+06\n",
      "75%      2.997562e+07\n",
      "max      2.923706e+09\n",
      "Name: revenue, dtype: float64\n"
     ]
    },
    {
     "data": {
      "text/html": [
       "<div>\n",
       "<style scoped>\n",
       "    .dataframe tbody tr th:only-of-type {\n",
       "        vertical-align: middle;\n",
       "    }\n",
       "\n",
       "    .dataframe tbody tr th {\n",
       "        vertical-align: top;\n",
       "    }\n",
       "\n",
       "    .dataframe thead th {\n",
       "        text-align: right;\n",
       "    }\n",
       "</style>\n",
       "<table border=\"1\" class=\"dataframe\">\n",
       "  <thead>\n",
       "    <tr style=\"text-align: right;\">\n",
       "      <th></th>\n",
       "      <th>id</th>\n",
       "      <th>title</th>\n",
       "      <th>vote_average</th>\n",
       "      <th>vote_count</th>\n",
       "      <th>status</th>\n",
       "      <th>release_date</th>\n",
       "      <th>revenue</th>\n",
       "      <th>runtime</th>\n",
       "      <th>budget</th>\n",
       "      <th>imdb_id</th>\n",
       "      <th>...</th>\n",
       "      <th>spoken_languages</th>\n",
       "      <th>cast</th>\n",
       "      <th>director</th>\n",
       "      <th>director_of_photography</th>\n",
       "      <th>writers</th>\n",
       "      <th>producers</th>\n",
       "      <th>music_composer</th>\n",
       "      <th>imdb_rating</th>\n",
       "      <th>imdb_votes</th>\n",
       "      <th>poster_path</th>\n",
       "    </tr>\n",
       "  </thead>\n",
       "  <tbody>\n",
       "    <tr>\n",
       "      <th>2</th>\n",
       "      <td>5</td>\n",
       "      <td>Four Rooms</td>\n",
       "      <td>5.869</td>\n",
       "      <td>2709.0</td>\n",
       "      <td>Released</td>\n",
       "      <td>1995-12-09</td>\n",
       "      <td>4257354.0</td>\n",
       "      <td>98.0</td>\n",
       "      <td>4000000.0</td>\n",
       "      <td>tt0113101</td>\n",
       "      <td>...</td>\n",
       "      <td>English</td>\n",
       "      <td>Paul Skemp, Sammi Davis, Quinn Hellerman, Davi...</td>\n",
       "      <td>Robert Rodriguez, Allison Anders, Quentin Tara...</td>\n",
       "      <td>Andrzej Sekula, Rodrigo García, Guillermo Nava...</td>\n",
       "      <td>Robert Rodriguez, Allison Anders, Quentin Tara...</td>\n",
       "      <td>Lawrence Bender, Quentin Tarantino, Alexandre ...</td>\n",
       "      <td>Combustible Edison</td>\n",
       "      <td>6.7</td>\n",
       "      <td>114732.0</td>\n",
       "      <td>/75aHn1NOYXh4M7L5shoeQ6NGykP.jpg</td>\n",
       "    </tr>\n",
       "    <tr>\n",
       "      <th>3</th>\n",
       "      <td>6</td>\n",
       "      <td>Judgment Night</td>\n",
       "      <td>6.500</td>\n",
       "      <td>354.0</td>\n",
       "      <td>Released</td>\n",
       "      <td>1993-10-15</td>\n",
       "      <td>12136938.0</td>\n",
       "      <td>109.0</td>\n",
       "      <td>21000000.0</td>\n",
       "      <td>tt0107286</td>\n",
       "      <td>...</td>\n",
       "      <td>English</td>\n",
       "      <td>Michael Wiseman, Michael DeLorenzo, Everlast, ...</td>\n",
       "      <td>Stephen Hopkins</td>\n",
       "      <td>Peter Levy</td>\n",
       "      <td>Jere Cunningham, Lewis Colick</td>\n",
       "      <td>Gene Levy, Marilyn Vance, Lloyd Segan</td>\n",
       "      <td>Alan Silvestri</td>\n",
       "      <td>6.6</td>\n",
       "      <td>20181.0</td>\n",
       "      <td>/3rvvpS9YPM5HB2f4HYiNiJVtdam.jpg</td>\n",
       "    </tr>\n",
       "    <tr>\n",
       "      <th>6</th>\n",
       "      <td>11</td>\n",
       "      <td>Star Wars</td>\n",
       "      <td>8.206</td>\n",
       "      <td>21347.0</td>\n",
       "      <td>Released</td>\n",
       "      <td>1977-05-25</td>\n",
       "      <td>775398007.0</td>\n",
       "      <td>121.0</td>\n",
       "      <td>11000000.0</td>\n",
       "      <td>tt0076759</td>\n",
       "      <td>...</td>\n",
       "      <td>English</td>\n",
       "      <td>Geoffrey Moon, Morgan Upton, Gilda Cohen, Fraz...</td>\n",
       "      <td>George Lucas</td>\n",
       "      <td>Gilbert Taylor</td>\n",
       "      <td>George Lucas</td>\n",
       "      <td>George Lucas, Gary Kurtz</td>\n",
       "      <td>John Williams</td>\n",
       "      <td>8.6</td>\n",
       "      <td>1523872.0</td>\n",
       "      <td>/6FfCtAuVAW8XJjZ7eWeLibRLWTw.jpg</td>\n",
       "    </tr>\n",
       "    <tr>\n",
       "      <th>7</th>\n",
       "      <td>12</td>\n",
       "      <td>Finding Nemo</td>\n",
       "      <td>7.817</td>\n",
       "      <td>19795.0</td>\n",
       "      <td>Released</td>\n",
       "      <td>2003-05-30</td>\n",
       "      <td>940335536.0</td>\n",
       "      <td>100.0</td>\n",
       "      <td>94000000.0</td>\n",
       "      <td>tt0266543</td>\n",
       "      <td>...</td>\n",
       "      <td>English</td>\n",
       "      <td>Sherry Lynn, Stephen Root, Jessie Flower, Bob ...</td>\n",
       "      <td>Andrew Stanton</td>\n",
       "      <td>Jeremy Lasky, Sharon Calahan</td>\n",
       "      <td>Will Csaklos, David Reynolds, Bob Peterson, Bl...</td>\n",
       "      <td>John Lasseter, Graham Walters</td>\n",
       "      <td>Thomas Newman</td>\n",
       "      <td>8.2</td>\n",
       "      <td>1170015.0</td>\n",
       "      <td>/eHuGQ10FUzK1mdOY69wF5pGgEf5.jpg</td>\n",
       "    </tr>\n",
       "    <tr>\n",
       "      <th>8</th>\n",
       "      <td>13</td>\n",
       "      <td>Forrest Gump</td>\n",
       "      <td>8.468</td>\n",
       "      <td>28434.0</td>\n",
       "      <td>Released</td>\n",
       "      <td>1994-06-23</td>\n",
       "      <td>677387716.0</td>\n",
       "      <td>142.0</td>\n",
       "      <td>55000000.0</td>\n",
       "      <td>tt0109830</td>\n",
       "      <td>...</td>\n",
       "      <td>English</td>\n",
       "      <td>John Simmit, Mark A. Rich, Valentine, John-Mic...</td>\n",
       "      <td>Robert Zemeckis</td>\n",
       "      <td>Don Burgess</td>\n",
       "      <td>Winston Groom, Eric Roth</td>\n",
       "      <td>Wendy Finerman, Steve Starkey, Steve Tisch</td>\n",
       "      <td>Alan Silvestri</td>\n",
       "      <td>8.8</td>\n",
       "      <td>2402398.0</td>\n",
       "      <td>/arw2vcBveWOVZr6pxd9XTd1TdQa.jpg</td>\n",
       "    </tr>\n",
       "  </tbody>\n",
       "</table>\n",
       "<p>5 rows × 28 columns</p>\n",
       "</div>"
      ],
      "text/plain": [
       "   id           title  vote_average  vote_count    status release_date  \\\n",
       "2   5      Four Rooms         5.869      2709.0  Released   1995-12-09   \n",
       "3   6  Judgment Night         6.500       354.0  Released   1993-10-15   \n",
       "6  11       Star Wars         8.206     21347.0  Released   1977-05-25   \n",
       "7  12    Finding Nemo         7.817     19795.0  Released   2003-05-30   \n",
       "8  13    Forrest Gump         8.468     28434.0  Released   1994-06-23   \n",
       "\n",
       "       revenue  runtime      budget    imdb_id  ... spoken_languages  \\\n",
       "2    4257354.0     98.0   4000000.0  tt0113101  ...          English   \n",
       "3   12136938.0    109.0  21000000.0  tt0107286  ...          English   \n",
       "6  775398007.0    121.0  11000000.0  tt0076759  ...          English   \n",
       "7  940335536.0    100.0  94000000.0  tt0266543  ...          English   \n",
       "8  677387716.0    142.0  55000000.0  tt0109830  ...          English   \n",
       "\n",
       "                                                cast  \\\n",
       "2  Paul Skemp, Sammi Davis, Quinn Hellerman, Davi...   \n",
       "3  Michael Wiseman, Michael DeLorenzo, Everlast, ...   \n",
       "6  Geoffrey Moon, Morgan Upton, Gilda Cohen, Fraz...   \n",
       "7  Sherry Lynn, Stephen Root, Jessie Flower, Bob ...   \n",
       "8  John Simmit, Mark A. Rich, Valentine, John-Mic...   \n",
       "\n",
       "                                            director  \\\n",
       "2  Robert Rodriguez, Allison Anders, Quentin Tara...   \n",
       "3                                    Stephen Hopkins   \n",
       "6                                       George Lucas   \n",
       "7                                     Andrew Stanton   \n",
       "8                                    Robert Zemeckis   \n",
       "\n",
       "                             director_of_photography  \\\n",
       "2  Andrzej Sekula, Rodrigo García, Guillermo Nava...   \n",
       "3                                         Peter Levy   \n",
       "6                                     Gilbert Taylor   \n",
       "7                       Jeremy Lasky, Sharon Calahan   \n",
       "8                                        Don Burgess   \n",
       "\n",
       "                                             writers  \\\n",
       "2  Robert Rodriguez, Allison Anders, Quentin Tara...   \n",
       "3                      Jere Cunningham, Lewis Colick   \n",
       "6                                       George Lucas   \n",
       "7  Will Csaklos, David Reynolds, Bob Peterson, Bl...   \n",
       "8                           Winston Groom, Eric Roth   \n",
       "\n",
       "                                           producers      music_composer  \\\n",
       "2  Lawrence Bender, Quentin Tarantino, Alexandre ...  Combustible Edison   \n",
       "3              Gene Levy, Marilyn Vance, Lloyd Segan      Alan Silvestri   \n",
       "6                           George Lucas, Gary Kurtz       John Williams   \n",
       "7                      John Lasseter, Graham Walters       Thomas Newman   \n",
       "8         Wendy Finerman, Steve Starkey, Steve Tisch      Alan Silvestri   \n",
       "\n",
       "  imdb_rating imdb_votes                       poster_path  \n",
       "2         6.7   114732.0  /75aHn1NOYXh4M7L5shoeQ6NGykP.jpg  \n",
       "3         6.6    20181.0  /3rvvpS9YPM5HB2f4HYiNiJVtdam.jpg  \n",
       "6         8.6  1523872.0  /6FfCtAuVAW8XJjZ7eWeLibRLWTw.jpg  \n",
       "7         8.2  1170015.0  /eHuGQ10FUzK1mdOY69wF5pGgEf5.jpg  \n",
       "8         8.8  2402398.0  /arw2vcBveWOVZr6pxd9XTd1TdQa.jpg  \n",
       "\n",
       "[5 rows x 28 columns]"
      ]
     },
     "execution_count": 2,
     "metadata": {},
     "output_type": "execute_result"
    }
   ],
   "source": [
    "print(f\"Loaded: {df_full.shape[0]:,} rows, {df_full.shape[1]} columns\")\n",
    "# 🧹 Basic Cleaning\n",
    "df_full = df_full[df_full[\"revenue\"].notnull() & (df_full[\"revenue\"] > 0) & (df_full[\"budget\"] > 0)]\n",
    "print(f\"after removing invalid revenue {df_full.shape}\")\n",
    "df = df_full[[\"revenue\"]].copy()\n",
    "print(df['revenue'].describe())\n",
    "df_full.head()"
   ]
  },
  {
   "cell_type": "code",
   "execution_count": 3,
   "id": "114a1d74-bb88-481d-875b-c4873cdbb39d",
   "metadata": {},
   "outputs": [
    {
     "data": {
      "application/vnd.jupyter.widget-view+json": {
       "model_id": "7783129ad841442aa46fe56f2f92e513",
       "version_major": 2,
       "version_minor": 0
      },
      "text/plain": [
       "Batches:   0%|          | 0/511 [00:00<?, ?it/s]"
      ]
     },
     "metadata": {},
     "output_type": "display_data"
    },
    {
     "name": "stderr",
     "output_type": "stream",
     "text": [
      "/Users/vkhawarey/Documents/git/moviecruncher/dataviz/.venv/lib/python3.13/site-packages/torch/nn/modules/module.py:1762: FutureWarning: `encoder_attention_mask` is deprecated and will be removed in version 4.55.0 for `BertSdpaSelfAttention.forward`.\n",
      "  return forward_call(*args, **kwargs)\n"
     ]
    }
   ],
   "source": [
    "features = []\n",
    "def get_embeddings(key: str, reduced_components: int = -1):\n",
    "    global features\n",
    "\n",
    "    texts = df_full[key].fillna(\"\").tolist()\n",
    "    raw_embeds = sentence_transformer.encode(texts, show_progress_bar=True)\n",
    "\n",
    "    if reduced_components > 0:\n",
    "        svd = TruncatedSVD(n_components=reduced_components, random_state=42)\n",
    "        embeddings = svd.fit_transform(raw_embeds)\n",
    "    else:\n",
    "        embeddings = raw_embeds\n",
    "\n",
    "    # Convert df.index into positional indices relative to df_full\n",
    "    selected_indices = df_full.index.get_indexer(df.index)\n",
    "    selected_embeddings = embeddings[selected_indices]\n",
    "\n",
    "    embed_cols = [f\"{key}_embed_{i}\" for i in range(selected_embeddings.shape[1])]\n",
    "    embed_df = pd.DataFrame(selected_embeddings, columns=embed_cols, index=df.index)\n",
    "\n",
    "    features.extend(embed_cols)\n",
    "    return pd.concat([df, embed_df], axis=1).copy()\n",
    "df = get_embeddings(key='overview', reduced_components=50)"
   ]
  },
  {
   "cell_type": "code",
   "execution_count": 4,
   "id": "1dca77b2-74c2-435d-a384-3323e5bf5bc7",
   "metadata": {},
   "outputs": [
    {
     "data": {
      "application/vnd.jupyter.widget-view+json": {
       "model_id": "929c593def8348deb4d6c2e0bb4e1e87",
       "version_major": 2,
       "version_minor": 0
      },
      "text/plain": [
       "Batches:   0%|          | 0/511 [00:00<?, ?it/s]"
      ]
     },
     "metadata": {},
     "output_type": "display_data"
    },
    {
     "name": "stderr",
     "output_type": "stream",
     "text": [
      "/Users/vkhawarey/Documents/git/moviecruncher/dataviz/.venv/lib/python3.13/site-packages/torch/nn/modules/module.py:1762: FutureWarning: `encoder_attention_mask` is deprecated and will be removed in version 4.55.0 for `BertSdpaSelfAttention.forward`.\n",
      "  return forward_call(*args, **kwargs)\n"
     ]
    }
   ],
   "source": [
    "# Important\n",
    "df = get_embeddings(key='title', reduced_components=50)"
   ]
  },
  {
   "cell_type": "code",
   "execution_count": 5,
   "id": "c86f1d33-fe41-4a97-bb46-fa5008a221e1",
   "metadata": {},
   "outputs": [
    {
     "data": {
      "application/vnd.jupyter.widget-view+json": {
       "model_id": "e433cb2fc29d46d694240c6a6679200a",
       "version_major": 2,
       "version_minor": 0
      },
      "text/plain": [
       "Batches:   0%|          | 0/511 [00:00<?, ?it/s]"
      ]
     },
     "metadata": {},
     "output_type": "display_data"
    },
    {
     "name": "stderr",
     "output_type": "stream",
     "text": [
      "/Users/vkhawarey/Documents/git/moviecruncher/dataviz/.venv/lib/python3.13/site-packages/torch/nn/modules/module.py:1762: FutureWarning: `encoder_attention_mask` is deprecated and will be removed in version 4.55.0 for `BertSdpaSelfAttention.forward`.\n",
      "  return forward_call(*args, **kwargs)\n"
     ]
    }
   ],
   "source": [
    "df = get_embeddings(key='director', reduced_components=50)"
   ]
  },
  {
   "cell_type": "code",
   "execution_count": 6,
   "id": "59d8e793-4e3b-4004-8599-a3f2d57958f8",
   "metadata": {},
   "outputs": [],
   "source": [
    "# df = get_embeddings(key='tagline', reduced_components=50)"
   ]
  },
  {
   "cell_type": "code",
   "execution_count": 7,
   "id": "54490ec4-c08c-49ca-a7b5-7b542f22deb9",
   "metadata": {},
   "outputs": [],
   "source": [
    "# Not much impact\n",
    "# df = get_embeddings(key='production_companies', reduced_components=50)"
   ]
  },
  {
   "cell_type": "code",
   "execution_count": 8,
   "id": "d219972e-9040-480d-b5bf-9cdc74c0cb7e",
   "metadata": {},
   "outputs": [],
   "source": [
    "# df = get_embeddings(key='cast', reduced_components=50)"
   ]
  },
  {
   "cell_type": "code",
   "execution_count": 9,
   "id": "5e1819d0-ffd2-4a71-8397-a95041035f4d",
   "metadata": {},
   "outputs": [],
   "source": [
    "def extract_date_features(df, date_column: str, prefix: str = \"release\"):\n",
    "    \"\"\"\n",
    "    Extracts year, month, day, dayofweek, quarter, and weekend flag\n",
    "    from a datetime column in df_full and adds them to the given df.\n",
    "\n",
    "    Parameters:\n",
    "        df (pd.DataFrame): Target DataFrame to add features to (e.g., filtered or reduced rows).\n",
    "        date_column (str): Name of the date column to extract from.\n",
    "        prefix (str): Prefix for the new feature columns (default: 'release').\n",
    "\n",
    "    Returns:\n",
    "        pd.DataFrame: DataFrame with new columns added.\n",
    "        List[str]: List of new feature column names.\n",
    "    \"\"\"\n",
    "    # Work with full date values from the master dataframe\n",
    "    dt = pd.to_datetime(df_full[date_column], errors='coerce')\n",
    "\n",
    "    new_cols = {\n",
    "        f\"{prefix}_year\": dt.dt.year.fillna(-1).astype(int),\n",
    "        f\"{prefix}_month\": dt.dt.month.fillna(-1).astype(int),\n",
    "        f\"{prefix}_day\": dt.dt.day.fillna(-1).astype(int),\n",
    "        f\"{prefix}_dayofweek\": dt.dt.dayofweek.fillna(-1).astype(int),\n",
    "        f\"{prefix}_quarter\": dt.dt.quarter.fillna(-1).astype(int),\n",
    "        f\"{prefix}_is_weekend\": dt.dt.dayofweek.fillna(-1).isin([5, 6]).astype(int),\n",
    "        f\"{prefix}_missing\": dt.isna().astype(int),\n",
    "    }\n",
    "\n",
    "    # Subset to rows that exist in df\n",
    "    sub_cols = {k: v.loc[df.index] for k, v in new_cols.items()}\n",
    "\n",
    "    df = df.assign(**sub_cols)\n",
    "    return df, list(sub_cols.keys())\n",
    "\n",
    "df, date_features = extract_date_features(df, 'release_date')\n",
    "features += date_features"
   ]
  },
  {
   "cell_type": "code",
   "execution_count": 10,
   "id": "f35767f0-d5b6-4091-bbc3-61b4461065e3",
   "metadata": {},
   "outputs": [],
   "source": [
    "def add_numeric_feature(df, col, fill_strategy='median', log_transform=False, zero_as_na=False):\n",
    "    col_data = pd.to_numeric(df_full[col], errors='coerce')\n",
    "    \n",
    "    if zero_as_na:\n",
    "        col_data = col_data.replace(0, np.nan)\n",
    "\n",
    "    if fill_strategy == 'median':\n",
    "        fill_value = col_data.median()\n",
    "    elif fill_strategy == 'mean':\n",
    "        fill_value = col_data.mean()\n",
    "    elif isinstance(fill_strategy, (int, float)):\n",
    "        fill_value = fill_strategy\n",
    "    else:\n",
    "        fill_value = 0  # fallback\n",
    "\n",
    "    col_data = col_data.fillna(fill_value)\n",
    "    col_data = np.log1p(col_data) if log_transform else col_data\n",
    "\n",
    "    df[col] = col_data.loc[df.index]\n",
    "    return df.copy(), [col]\n",
    "\n",
    "df, added = add_numeric_feature(df, 'runtime')\n",
    "features += added"
   ]
  },
  {
   "cell_type": "code",
   "execution_count": 11,
   "id": "85782434-1821-41ff-af1e-cb8ca45fda83",
   "metadata": {},
   "outputs": [],
   "source": [
    "df, added = add_numeric_feature(df, 'budget', log_transform=True, zero_as_na=True)\n",
    "features += added"
   ]
  },
  {
   "cell_type": "code",
   "execution_count": 12,
   "id": "14cbcae8-de47-4a82-a0f0-347920858f03",
   "metadata": {},
   "outputs": [],
   "source": [
    "X = df[features]\n",
    "y = np.log1p(df['revenue'])\n",
    "X_train, X_val, y_train, y_val = train_test_split(\n",
    "    X, y, test_size=0.2, random_state=42\n",
    ")"
   ]
  },
  {
   "cell_type": "code",
   "execution_count": null,
   "id": "6d20a605-45e5-4b59-9b3b-ce19e92a3408",
   "metadata": {},
   "outputs": [],
   "source": [
    "## LightGBM\n",
    "# from lightgbm import LGBMRegressor, early_stopping, log_evaluation\n",
    "\n",
    "# train_data = lgb.Dataset(X_train, label=y_train)\n",
    "# valid_data = lgb.Dataset(X_val, label=y_val)\n",
    "\n",
    "# model = LGBMRegressor(\n",
    "#     objective='regression',\n",
    "#     n_estimators=1000,\n",
    "#     random_state=42\n",
    "# )\n",
    "\n",
    "# model.fit(\n",
    "#     X_train,\n",
    "#     y_train,\n",
    "#     eval_set=[(X_val, y_val)],\n",
    "#     eval_metric='rmse',\n",
    "#     callbacks=[\n",
    "#         early_stopping(stopping_rounds=50),\n",
    "#         log_evaluation(period=10)\n",
    "#     ]\n",
    "# )\n",
    "\n",
    "## XGBoost\n",
    "from xgboost import XGBRegressor\n",
    "from sklearn.metrics import mean_absolute_error, root_mean_squared_error\n",
    "\n",
    "model = XGBRegressor(\n",
    "    tree_method=\"hist\",\n",
    "    eval_metric=root_mean_squared_error,  # or use 'mae' string\n",
    "    learning_rate=0.1,         # smaller values usually generalize better\n",
    "    n_estimators=1000,          # more trees with early stopping\n",
    "    max_depth=8,                # typical range: 4–10\n",
    "    subsample=0.8,              # row sampling for regularization\n",
    "    colsample_bytree=0.8,       # column sampling\n",
    "    random_state=42,\n",
    "    early_stopping_rounds=50\n",
    ")\n",
    "\n",
    "model.fit(\n",
    "    X, y,\n",
    "    eval_set=[(X, y)],\n",
    "    verbose=False\n",
    ")"
   ]
  },
  {
   "cell_type": "code",
   "execution_count": 22,
   "id": "14cfbf49-debc-4dcd-92ff-9614e69f5183",
   "metadata": {},
   "outputs": [
    {
     "name": "stdout",
     "output_type": "stream",
     "text": [
      "Validation RMSE: 15,841,699.25\n",
      "Validation MAE: 4,461,879.70\n"
     ]
    }
   ],
   "source": [
    "from sklearn.metrics import mean_squared_error, mean_absolute_error\n",
    "\n",
    "y_pred_log = model.predict(X_val)\n",
    "y_pred_real = np.expm1(y_pred_log)\n",
    "y_val_real = df.loc[X_val.index, 'revenue']\n",
    "\n",
    "rmse = np.sqrt(mean_squared_error(y_val_real, y_pred_real))\n",
    "mae = mean_absolute_error(y_val_real, y_pred_real)\n",
    "print(f\"Validation RMSE: {rmse:,.2f}\")\n",
    "print(f\"Validation MAE: {mae:,.2f}\")"
   ]
  },
  {
   "cell_type": "code",
   "execution_count": null,
   "id": "32f7d02b-dc47-4ba4-8d62-22f3238b47ed",
   "metadata": {},
   "outputs": [],
   "source": []
  },
  {
   "cell_type": "code",
   "execution_count": null,
   "id": "273ea0df-f865-4f43-9438-4ab9c8b60049",
   "metadata": {},
   "outputs": [],
   "source": []
  }
 ],
 "metadata": {
  "kernelspec": {
   "display_name": "Python 3 (ipykernel)",
   "language": "python",
   "name": "python3"
  },
  "language_info": {
   "codemirror_mode": {
    "name": "ipython",
    "version": 3
   },
   "file_extension": ".py",
   "mimetype": "text/x-python",
   "name": "python",
   "nbconvert_exporter": "python",
   "pygments_lexer": "ipython3",
   "version": "3.13.3"
  }
 },
 "nbformat": 4,
 "nbformat_minor": 5
}
