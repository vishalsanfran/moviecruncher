{
 "cells": [
  {
   "cell_type": "code",
   "execution_count": 8,
   "id": "a74b4864-8d67-4f0d-af4f-ad2de0670e44",
   "metadata": {},
   "outputs": [],
   "source": [
    "import cv2, torch, numpy as np, matplotlib.pyplot as plt\n",
    "from ultralytics import YOLO\n",
    "from tqdm import tqdm\n",
    "from facenet_pytorch import InceptionResnetV1, MTCNN"
   ]
  },
  {
   "cell_type": "code",
   "execution_count": null,
   "id": "40a36550-da1d-48a8-b079-24fdeddce34d",
   "metadata": {},
   "outputs": [],
   "source": []
  },
  {
   "cell_type": "code",
   "execution_count": null,
   "id": "687b428a-9bae-40b8-8fc8-0ee6911206e0",
   "metadata": {},
   "outputs": [],
   "source": []
  }
 ],
 "metadata": {
  "kernelspec": {
   "display_name": "Python 3 (ipykernel)",
   "language": "python",
   "name": "python3"
  },
  "language_info": {
   "codemirror_mode": {
    "name": "ipython",
    "version": 3
   },
   "file_extension": ".py",
   "mimetype": "text/x-python",
   "name": "python",
   "nbconvert_exporter": "python",
   "pygments_lexer": "ipython3",
   "version": "3.13.3"
  }
 },
 "nbformat": 4,
 "nbformat_minor": 5
}
