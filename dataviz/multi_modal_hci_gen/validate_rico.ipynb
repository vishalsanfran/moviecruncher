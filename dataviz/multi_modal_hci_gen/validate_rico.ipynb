{
 "cells": [
  {
   "cell_type": "code",
   "execution_count": 24,
   "id": "0cf5964d-33f1-4a8a-8419-10876660daba",
   "metadata": {},
   "outputs": [
    {
     "name": "stderr",
     "output_type": "stream",
     "text": [
      "66261it [00:47, 1405.70it/s]\n",
      "66261it [00:14, 4440.82it/s]"
     ]
    },
    {
     "name": "stdout",
     "output_type": "stream",
     "text": [
      "Common activity_name values: 0 / 29429 core screens\n"
     ]
    },
    {
     "name": "stderr",
     "output_type": "stream",
     "text": [
      "\n"
     ]
    },
    {
     "ename": "IndexError",
     "evalue": "Cannot choose from an empty sequence",
     "output_type": "error",
     "traceback": [
      "\u001b[31m---------------------------------------------------------------------------\u001b[39m",
      "\u001b[31mIndexError\u001b[39m                                Traceback (most recent call last)",
      "\u001b[36mCell\u001b[39m\u001b[36m \u001b[39m\u001b[32mIn[24]\u001b[39m\u001b[32m, line 33\u001b[39m\n\u001b[32m     30\u001b[39m \u001b[38;5;28mprint\u001b[39m(\u001b[33mf\u001b[39m\u001b[33m\"\u001b[39m\u001b[33mCommon activity_name values: \u001b[39m\u001b[38;5;132;01m{\u001b[39;00m\u001b[38;5;28mlen\u001b[39m(common_keys)\u001b[38;5;132;01m}\u001b[39;00m\u001b[33m / \u001b[39m\u001b[38;5;132;01m{\u001b[39;00m\u001b[38;5;28mlen\u001b[39m(core_map)\u001b[38;5;132;01m}\u001b[39;00m\u001b[33m core screens\u001b[39m\u001b[33m\"\u001b[39m)\n\u001b[32m     32\u001b[39m \u001b[38;5;66;03m# inspect one random common screen\u001b[39;00m\n\u001b[32m---> \u001b[39m\u001b[32m33\u001b[39m act = \u001b[43mrandom\u001b[49m\u001b[43m.\u001b[49m\u001b[43mchoice\u001b[49m\u001b[43m(\u001b[49m\u001b[38;5;28;43mlist\u001b[39;49m\u001b[43m(\u001b[49m\u001b[43mcommon_keys\u001b[49m\u001b[43m)\u001b[49m\u001b[43m)\u001b[49m\n\u001b[32m     34\u001b[39m \u001b[38;5;28mprint\u001b[39m(\u001b[33m\"\u001b[39m\u001b[33mExample common activity_name:\u001b[39m\u001b[33m\"\u001b[39m, act)\n\u001b[32m     35\u001b[39m \u001b[38;5;28mprint\u001b[39m(\u001b[33m\"\u001b[39m\u001b[33mCore JSON:\u001b[39m\u001b[33m\"\u001b[39m, core_map[act][\u001b[32m0\u001b[39m].name)\n",
      "\u001b[36mFile \u001b[39m\u001b[32m/opt/homebrew/Cellar/python@3.13/3.13.3/Frameworks/Python.framework/Versions/3.13/lib/python3.13/random.py:351\u001b[39m, in \u001b[36mRandom.choice\u001b[39m\u001b[34m(self, seq)\u001b[39m\n\u001b[32m    348\u001b[39m \u001b[38;5;66;03m# As an accommodation for NumPy, we don't use \"if not seq\"\u001b[39;00m\n\u001b[32m    349\u001b[39m \u001b[38;5;66;03m# because bool(numpy.array()) raises a ValueError.\u001b[39;00m\n\u001b[32m    350\u001b[39m \u001b[38;5;28;01mif\u001b[39;00m \u001b[38;5;129;01mnot\u001b[39;00m \u001b[38;5;28mlen\u001b[39m(seq):\n\u001b[32m--> \u001b[39m\u001b[32m351\u001b[39m     \u001b[38;5;28;01mraise\u001b[39;00m \u001b[38;5;167;01mIndexError\u001b[39;00m(\u001b[33m'\u001b[39m\u001b[33mCannot choose from an empty sequence\u001b[39m\u001b[33m'\u001b[39m)\n\u001b[32m    352\u001b[39m \u001b[38;5;28;01mreturn\u001b[39;00m seq[\u001b[38;5;28mself\u001b[39m._randbelow(\u001b[38;5;28mlen\u001b[39m(seq))]\n",
      "\u001b[31mIndexError\u001b[39m: Cannot choose from an empty sequence"
     ]
    }
   ],
   "source": [
    "from pathlib import Path\n",
    "import json\n",
    "import random\n",
    "from tqdm import tqdm\n",
    "\n",
    "CORE = Path(\"data/rico_core\")\n",
    "SEM  = Path(\"data/rico_semantic_annotations\")\n",
    "\n",
    "core_map = {}\n",
    "for p in tqdm(CORE.glob(\"*.json\")):\n",
    "    try:\n",
    "        d = json.load(open(p))\n",
    "        act = d.get(\"activity_name\")\n",
    "        if act:\n",
    "            core_map.setdefault(act, []).append(p)\n",
    "    except Exception:\n",
    "        pass\n",
    "\n",
    "sem_map = {}\n",
    "for p in tqdm(SEM.glob(\"*.json\")):\n",
    "    try:\n",
    "        d = json.load(open(p))\n",
    "        act = d.get(\"activity_name\")\n",
    "        if act:\n",
    "            sem_map.setdefault(act, []).append(p)\n",
    "    except Exception:\n",
    "        pass\n",
    "\n",
    "common_keys = set(core_map.keys()).intersection(sem_map.keys())\n",
    "print(f\"Common activity_name values: {len(common_keys)} / {len(core_map)} core screens\")\n",
    "\n",
    "# inspect one random common screen\n",
    "act = random.choice(list(common_keys))\n",
    "print(\"Example common activity_name:\", act)\n",
    "print(\"Core JSON:\", core_map[act][0].name)\n",
    "print(\"Semantic JSON:\", sem_map[act][0].name)"
   ]
  },
  {
   "cell_type": "code",
   "execution_count": null,
   "id": "403bb7c2-eaa4-4d83-97fd-49f835250e7a",
   "metadata": {},
   "outputs": [],
   "source": []
  }
 ],
 "metadata": {
  "kernelspec": {
   "display_name": "Python 3 (ipykernel)",
   "language": "python",
   "name": "python3"
  },
  "language_info": {
   "codemirror_mode": {
    "name": "ipython",
    "version": 3
   },
   "file_extension": ".py",
   "mimetype": "text/x-python",
   "name": "python",
   "nbconvert_exporter": "python",
   "pygments_lexer": "ipython3",
   "version": "3.13.3"
  }
 },
 "nbformat": 4,
 "nbformat_minor": 5
}
