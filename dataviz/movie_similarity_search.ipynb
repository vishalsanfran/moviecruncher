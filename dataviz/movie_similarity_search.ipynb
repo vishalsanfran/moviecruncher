{
 "cells": [
  {
   "cell_type": "code",
   "execution_count": 1,
   "id": "de07dda8-fe53-4568-9360-f153d03720d1",
   "metadata": {},
   "outputs": [],
   "source": [
    "import pandas as pd\n",
    "import numpy as np\n",
    "from sentence_transformers import SentenceTransformer\n",
    "import faiss\n",
    "\n",
    "model = SentenceTransformer(\"all-MiniLM-L6-v2\")\n",
    "\n",
    "def combine_text(row):\n",
    "    return f\"title: {row['title']} overview: {row['overview']} cast: {row['cast']} director: {row['director']}\""
   ]
  },
  {
   "cell_type": "code",
   "execution_count": 2,
   "id": "39ea7699-69ca-40fd-be05-c9996e811b2f",
   "metadata": {},
   "outputs": [],
   "source": [
    "df = pd.read_csv(\"TMDB_all_movies.csv\")"
   ]
  },
  {
   "cell_type": "code",
   "execution_count": 3,
   "id": "4ae15a21-9312-421c-af5b-c4d2819f68e2",
   "metadata": {},
   "outputs": [
    {
     "name": "stdout",
     "output_type": "stream",
     "text": [
      "count    1.242300e+04\n",
      "mean     6.182690e+07\n",
      "std      1.483170e+08\n",
      "min      1.000071e+06\n",
      "25%      4.017507e+06\n",
      "50%      1.350000e+07\n",
      "75%      5.011080e+07\n",
      "max      2.923706e+09\n",
      "Name: revenue, dtype: float64\n"
     ]
    }
   ],
   "source": [
    "df = df[df[\"revenue\"].notnull() & (df[\"revenue\"] > 1_000_000)]\n",
    "parsed_dates = pd.to_datetime(df['release_date'], errors='coerce')\n",
    "df['release_year'] = parsed_dates.dt.year\n",
    "df = df[df[\"release_year\"].notnull() & (df[\"release_year\"] >= 1980)]\n",
    "print(df['revenue'].describe())"
   ]
  },
  {
   "cell_type": "code",
   "execution_count": 4,
   "id": "b7627914-5903-4947-9ea1-95614e344b3e",
   "metadata": {},
   "outputs": [
    {
     "name": "stdout",
     "output_type": "stream",
     "text": [
      "count    1.242300e+04\n",
      "mean     9.606349e+07\n",
      "std      2.150587e+08\n",
      "min      1.000526e+06\n",
      "25%      6.198475e+06\n",
      "50%      2.235727e+07\n",
      "75%      8.476569e+07\n",
      "max      4.473049e+09\n",
      "Name: revenue_adj, dtype: float64\n"
     ]
    }
   ],
   "source": [
    "cpi_map = {\n",
    "    1960: 29.6,\n",
    "    1970: 38.8,\n",
    "    1980: 82.4,\n",
    "    1990: 130.7,\n",
    "    2000: 172.2,\n",
    "    2010: 218.1,\n",
    "    2015: 237.0,\n",
    "    2020: 258.8,\n",
    "    2021: 270.97,\n",
    "    2022: 292.66,\n",
    "    2023: 303.0,\n",
    "    2024: 313.0,\n",
    "    2025: 315.6  # estimated\n",
    "}\n",
    "\n",
    "def interpolate_cpi(year: int) -> float:\n",
    "    if year in cpi_map:\n",
    "        return cpi_map[year]\n",
    "\n",
    "    # Convert to sorted list\n",
    "    known_years = sorted(cpi_map.keys())\n",
    "    \n",
    "    # Find closest years before and after\n",
    "    prev_years = [y for y in known_years if y < year]\n",
    "    next_years = [y for y in known_years if y > year]\n",
    "\n",
    "    if not prev_years or not next_years:\n",
    "        return np.nan  # Can't interpolate outside known range\n",
    "\n",
    "    y1 = max(prev_years)\n",
    "    y2 = min(next_years)\n",
    "    cpi1 = cpi_map[y1]\n",
    "    cpi2 = cpi_map[y2]\n",
    "\n",
    "    # Linear interpolation with weighting based on distance\n",
    "    weight = (year - y1) / (y2 - y1)\n",
    "    return cpi1 * (1 - weight) + cpi2 * weight\n",
    "    \n",
    "def adjust_for_inflation(amount: float, release_year: int, base_year: int = 2025) -> float:\n",
    "    try:\n",
    "        base_cpi = cpi_map[base_year]\n",
    "        movie_cpi = cpi_map.get(release_year) or interpolate_cpi(release_year)\n",
    "        if not movie_cpi:\n",
    "            return amount  # fallback if CPI is still missing\n",
    "        return amount * (base_cpi / movie_cpi)\n",
    "    except Exception:\n",
    "        return amount\n",
    "df['budget_adj'] = df.apply(\n",
    "    lambda row: adjust_for_inflation(row['budget'], row['release_year']), axis=1\n",
    ")\n",
    "\n",
    "df['revenue_adj'] = df.apply(\n",
    "    lambda row: adjust_for_inflation(row['revenue'], row['release_year']), axis=1\n",
    ")\n",
    "print(df['revenue_adj'].describe())"
   ]
  },
  {
   "cell_type": "code",
   "execution_count": 5,
   "id": "1fa582f1-c717-4368-806e-895963aef911",
   "metadata": {},
   "outputs": [
    {
     "data": {
      "application/vnd.jupyter.widget-view+json": {
       "model_id": "190d47b9f9b24124a6e630e9659e3b16",
       "version_major": 2,
       "version_minor": 0
      },
      "text/plain": [
       "Batches:   0%|          | 0/389 [00:00<?, ?it/s]"
      ]
     },
     "metadata": {},
     "output_type": "display_data"
    },
    {
     "name": "stderr",
     "output_type": "stream",
     "text": [
      "/Users/vkhawarey/Documents/git/moviecruncher/dataviz/.venv/lib/python3.13/site-packages/torch/nn/modules/module.py:1762: FutureWarning: `encoder_attention_mask` is deprecated and will be removed in version 4.55.0 for `BertSdpaSelfAttention.forward`.\n",
      "  return forward_call(*args, **kwargs)\n"
     ]
    },
    {
     "name": "stdout",
     "output_type": "stream",
     "text": [
      "(12423, 384)\n",
      "float32\n"
     ]
    }
   ],
   "source": [
    "\n",
    "\n",
    "df['search_text'] = df.fillna('').apply(combine_text, axis=1)\n",
    "embeddings = model.encode(df['search_text'].tolist(), show_progress_bar=True, convert_to_numpy=True)\n",
    "embedding_dim = embeddings.shape[1]\n",
    "print(embeddings.shape)\n",
    "print(embeddings.dtype)\n",
    "#index = faiss.IndexHNSWFlat(embedding_dim, 16)\n",
    "#index.hnsw.efConstruction = 40\n",
    "#index.hnsw.efSearch = 32\n",
    "index = faiss.IndexFlatL2(embedding_dim)\n",
    "index.add(embeddings)\n",
    "def query_movies(user_query, k=10):\n",
    "    query_vec = model.encode([user_query], convert_to_numpy=True)\n",
    "    D, I = index.search(query_vec, k)\n",
    "    results = df.iloc[I[0]].copy()\n",
    "\n",
    "    revenues = results['revenue'].dropna()\n",
    "    if len(revenues) == 0:\n",
    "        return results, None\n",
    "\n",
    "    revenue_stats = {\n",
    "        \"min\": revenues.min(),\n",
    "        \"max\": revenues.max(),\n",
    "        \"median\": revenues.median(),\n",
    "        \"mean\": revenues.mean()\n",
    "    }\n",
    "    return results, revenue_stats"
   ]
  },
  {
   "cell_type": "code",
   "execution_count": 9,
   "id": "0f24d134-c19a-4787-a170-6dcc0d3b08ef",
   "metadata": {},
   "outputs": [
    {
     "name": "stdout",
     "output_type": "stream",
     "text": [
      "Top similar movies:\n",
      "                         title   revenue_adj\n",
      "40932                  The Way  2.011389e+07\n",
      "88263   Across the Sea of Time  3.337429e+07\n",
      "3995                       8MM  1.814511e+08\n",
      "4227                   Timecop  2.762916e+08\n",
      "776045       The Time It Takes  1.096732e+06\n",
      "1427              Nick of Time  1.703624e+07\n",
      "70          Back to the Future  1.128843e+09\n",
      "5006                 Explorers  2.932370e+07\n",
      "8329                        Up  1.086587e+09\n",
      "391                   Poseidon  2.870958e+08\n",
      "\n",
      "Estimated revenue range (in millions USD):\n",
      "Min: $1.1M\n",
      "Max: $735.1M\n",
      "Median: $56.3M\n",
      "Mean: $157.3M\n"
     ]
    },
    {
     "name": "stderr",
     "output_type": "stream",
     "text": [
      "/Users/vkhawarey/Documents/git/moviecruncher/dataviz/.venv/lib/python3.13/site-packages/torch/nn/modules/module.py:1762: FutureWarning: `encoder_attention_mask` is deprecated and will be removed in version 4.55.0 for `BertSdpaSelfAttention.forward`.\n",
      "  return forward_call(*args, **kwargs)\n"
     ]
    }
   ],
   "source": [
    "user_input = \"overview: Time-travel action thriller starring Tom Cruise\"\n",
    "results, stats = query_movies(user_input)\n",
    "\n",
    "print(\"Top similar movies:\")\n",
    "print(results[['title', 'revenue_adj']])\n",
    "\n",
    "if stats:\n",
    "    print(\"\\nEstimated revenue range (in millions USD):\")\n",
    "    print(f\"Min: ${stats['min'] / 1e6:,.1f}M\")\n",
    "    print(f\"Max: ${stats['max'] / 1e6:,.1f}M\")\n",
    "    print(f\"Median: ${stats['median'] / 1e6:,.1f}M\")\n",
    "    print(f\"Mean: ${stats['mean'] / 1e6:,.1f}M\")"
   ]
  },
  {
   "cell_type": "code",
   "execution_count": 10,
   "id": "b5456f1f-a05d-4a09-8501-b75da0ef5014",
   "metadata": {},
   "outputs": [
    {
     "data": {
      "text/plain": [
       "['metadata.pkl']"
      ]
     },
     "execution_count": 10,
     "metadata": {},
     "output_type": "execute_result"
    }
   ],
   "source": [
    "import joblib\n",
    "\n",
    "faiss.write_index(index, \"faiss_text_only.idx\")\n",
    "joblib.dump(df[[\"title\", \"overview\", \"cast\", \"director\", \"revenue\"]].reset_index(drop=True), \"metadata.pkl\")"
   ]
  },
  {
   "cell_type": "code",
   "execution_count": null,
   "id": "b87d804f-4259-4d22-984f-34f3c4f3f0eb",
   "metadata": {},
   "outputs": [],
   "source": []
  }
 ],
 "metadata": {
  "kernelspec": {
   "display_name": "Python 3 (ipykernel)",
   "language": "python",
   "name": "python3"
  },
  "language_info": {
   "codemirror_mode": {
    "name": "ipython",
    "version": 3
   },
   "file_extension": ".py",
   "mimetype": "text/x-python",
   "name": "python",
   "nbconvert_exporter": "python",
   "pygments_lexer": "ipython3",
   "version": "3.13.3"
  }
 },
 "nbformat": 4,
 "nbformat_minor": 5
}
